{
 "cells": [
  {
   "cell_type": "markdown",
   "id": "8a0e75ba",
   "metadata": {},
   "source": [
    "# Problem Explanation"
   ]
  },
  {
   "cell_type": "markdown",
   "id": "d91f06e0",
   "metadata": {},
   "source": [
    "A company has gathered data on 238 of its customers and wants information extracted from this dataset. In this analysis, an extensive exploratory analysis will be completed, followed by a simple linear regression model development to streamline information gathering for marketing campaigns and broader business decisions.\n",
    "\n",
    "The dataset used for this analysis was retrieved from Kaggle at the following link: https://www.kaggle.com/datasets/hanaksoy/customer-purchasing-behaviors\n",
    "\n",
    "Below is a very brief overview of the characteristics of this dataset."
   ]
  },
  {
   "cell_type": "markdown",
   "id": "4498a121",
   "metadata": {},
   "source": [
    "The Customer Purchasing Behaviors dataset contains 7 features and 238 records. \n",
    "\n",
    "Features:\n",
    "- user_id\n",
    "- age\n",
    "- annual_income (in USD)\n",
    "- purchase_amount (in USD)\n",
    "- loyalty_score (between 0 and 10)\n",
    "- region (of the United States)\n",
    "- purchase_frequency (average number of purchases per year)"
   ]
  },
  {
   "cell_type": "markdown",
   "id": "17adb64f",
   "metadata": {},
   "source": [
    "# Import Libraries"
   ]
  },
  {
   "cell_type": "code",
   "execution_count": 1,
   "id": "9f38c9c8",
   "metadata": {},
   "outputs": [],
   "source": [
    "import pandas as pd\n",
    "import numpy as np\n",
    "import matplotlib.pyplot as plt\n",
    "import random\n",
    "import scipy.stats as stats\n",
    "from sklearn.preprocessing import StandardScaler\n",
    "from sklearn.model_selection import train_test_split\n",
    "from sklearn.linear_model import LinearRegression\n",
    "from sklearn.metrics import mean_squared_error, r2_score\n",
    "from sklearn.pipeline import Pipeline\n",
    "import math"
   ]
  },
  {
   "cell_type": "markdown",
   "id": "a4fa2d03",
   "metadata": {},
   "source": [
    "# Import Dataset"
   ]
  },
  {
   "cell_type": "code",
   "execution_count": 2,
   "id": "ec13dd91",
   "metadata": {},
   "outputs": [],
   "source": [
    "# Import dataset\n",
    "raw_data = pd.read_csv('Customer Purchasing Behaviors.csv')"
   ]
  },
  {
   "cell_type": "markdown",
   "id": "88e05a49",
   "metadata": {},
   "source": [
    "# Exploratory Data Analysis"
   ]
  },
  {
   "cell_type": "markdown",
   "id": "d0fbc78b",
   "metadata": {},
   "source": [
    "This EDA explores the structure of the dataset, assess the presence of nulls, discusses summary statistics and measures of central tendancy for each feature, and identifies patterns and relationships through a series of visualizations."
   ]
  },
  {
   "cell_type": "markdown",
   "id": "75c9b91a",
   "metadata": {},
   "source": [
    "### Explore Dataset Structure and Nulls"
   ]
  },
  {
   "cell_type": "code",
   "execution_count": 3,
   "id": "fbc84a75",
   "metadata": {},
   "outputs": [
    {
     "data": {
      "text/html": [
       "<div>\n",
       "<style scoped>\n",
       "    .dataframe tbody tr th:only-of-type {\n",
       "        vertical-align: middle;\n",
       "    }\n",
       "\n",
       "    .dataframe tbody tr th {\n",
       "        vertical-align: top;\n",
       "    }\n",
       "\n",
       "    .dataframe thead th {\n",
       "        text-align: right;\n",
       "    }\n",
       "</style>\n",
       "<table border=\"1\" class=\"dataframe\">\n",
       "  <thead>\n",
       "    <tr style=\"text-align: right;\">\n",
       "      <th></th>\n",
       "      <th>user_id</th>\n",
       "      <th>age</th>\n",
       "      <th>annual_income</th>\n",
       "      <th>purchase_amount</th>\n",
       "      <th>loyalty_score</th>\n",
       "      <th>region</th>\n",
       "      <th>purchase_frequency</th>\n",
       "    </tr>\n",
       "  </thead>\n",
       "  <tbody>\n",
       "    <tr>\n",
       "      <th>0</th>\n",
       "      <td>1</td>\n",
       "      <td>25</td>\n",
       "      <td>45000</td>\n",
       "      <td>200</td>\n",
       "      <td>4.5</td>\n",
       "      <td>North</td>\n",
       "      <td>12</td>\n",
       "    </tr>\n",
       "    <tr>\n",
       "      <th>1</th>\n",
       "      <td>2</td>\n",
       "      <td>34</td>\n",
       "      <td>55000</td>\n",
       "      <td>350</td>\n",
       "      <td>7.0</td>\n",
       "      <td>South</td>\n",
       "      <td>18</td>\n",
       "    </tr>\n",
       "    <tr>\n",
       "      <th>2</th>\n",
       "      <td>3</td>\n",
       "      <td>45</td>\n",
       "      <td>65000</td>\n",
       "      <td>500</td>\n",
       "      <td>8.0</td>\n",
       "      <td>West</td>\n",
       "      <td>22</td>\n",
       "    </tr>\n",
       "    <tr>\n",
       "      <th>3</th>\n",
       "      <td>4</td>\n",
       "      <td>22</td>\n",
       "      <td>30000</td>\n",
       "      <td>150</td>\n",
       "      <td>3.0</td>\n",
       "      <td>East</td>\n",
       "      <td>10</td>\n",
       "    </tr>\n",
       "    <tr>\n",
       "      <th>4</th>\n",
       "      <td>5</td>\n",
       "      <td>29</td>\n",
       "      <td>47000</td>\n",
       "      <td>220</td>\n",
       "      <td>4.8</td>\n",
       "      <td>North</td>\n",
       "      <td>13</td>\n",
       "    </tr>\n",
       "  </tbody>\n",
       "</table>\n",
       "</div>"
      ],
      "text/plain": [
       "   user_id  age  annual_income  purchase_amount  loyalty_score region  \\\n",
       "0        1   25          45000              200            4.5  North   \n",
       "1        2   34          55000              350            7.0  South   \n",
       "2        3   45          65000              500            8.0   West   \n",
       "3        4   22          30000              150            3.0   East   \n",
       "4        5   29          47000              220            4.8  North   \n",
       "\n",
       "   purchase_frequency  \n",
       "0                  12  \n",
       "1                  18  \n",
       "2                  22  \n",
       "3                  10  \n",
       "4                  13  "
      ]
     },
     "execution_count": 3,
     "metadata": {},
     "output_type": "execute_result"
    }
   ],
   "source": [
    "# Review top rows\n",
    "raw_data.head()"
   ]
  },
  {
   "cell_type": "code",
   "execution_count": 4,
   "id": "1672d842",
   "metadata": {},
   "outputs": [
    {
     "data": {
      "text/plain": [
       "(238, 7)"
      ]
     },
     "execution_count": 4,
     "metadata": {},
     "output_type": "execute_result"
    }
   ],
   "source": [
    "# Review structure of data\n",
    "raw_data.shape"
   ]
  },
  {
   "cell_type": "code",
   "execution_count": 5,
   "id": "9051724a",
   "metadata": {},
   "outputs": [
    {
     "data": {
      "text/plain": [
       "Index(['user_id', 'age', 'annual_income', 'purchase_amount', 'loyalty_score',\n",
       "       'region', 'purchase_frequency'],\n",
       "      dtype='object')"
      ]
     },
     "execution_count": 5,
     "metadata": {},
     "output_type": "execute_result"
    }
   ],
   "source": [
    "# Review column names\n",
    "raw_data.columns"
   ]
  },
  {
   "cell_type": "code",
   "execution_count": 6,
   "id": "99c7e62b",
   "metadata": {},
   "outputs": [
    {
     "data": {
      "text/plain": [
       "user_id               0\n",
       "age                   0\n",
       "annual_income         0\n",
       "purchase_amount       0\n",
       "loyalty_score         0\n",
       "region                0\n",
       "purchase_frequency    0\n",
       "dtype: int64"
      ]
     },
     "execution_count": 6,
     "metadata": {},
     "output_type": "execute_result"
    }
   ],
   "source": [
    "# Check for nulls\n",
    "raw_data.isna().sum()"
   ]
  },
  {
   "cell_type": "code",
   "execution_count": 7,
   "id": "fca2c47e",
   "metadata": {},
   "outputs": [
    {
     "data": {
      "text/plain": [
       "user_id                 int64\n",
       "age                     int64\n",
       "annual_income           int64\n",
       "purchase_amount         int64\n",
       "loyalty_score         float64\n",
       "region                 object\n",
       "purchase_frequency      int64\n",
       "dtype: object"
      ]
     },
     "execution_count": 7,
     "metadata": {},
     "output_type": "execute_result"
    }
   ],
   "source": [
    "# Check for inconsistent data-types\n",
    "raw_data.dtypes"
   ]
  },
  {
   "cell_type": "markdown",
   "id": "f2430183",
   "metadata": {},
   "source": [
    "### Generate Summary Statistics"
   ]
  },
  {
   "cell_type": "code",
   "execution_count": 8,
   "id": "6224842f",
   "metadata": {},
   "outputs": [
    {
     "data": {
      "text/html": [
       "<div>\n",
       "<style scoped>\n",
       "    .dataframe tbody tr th:only-of-type {\n",
       "        vertical-align: middle;\n",
       "    }\n",
       "\n",
       "    .dataframe tbody tr th {\n",
       "        vertical-align: top;\n",
       "    }\n",
       "\n",
       "    .dataframe thead th {\n",
       "        text-align: right;\n",
       "    }\n",
       "</style>\n",
       "<table border=\"1\" class=\"dataframe\">\n",
       "  <thead>\n",
       "    <tr style=\"text-align: right;\">\n",
       "      <th></th>\n",
       "      <th>user_id</th>\n",
       "      <th>age</th>\n",
       "      <th>annual_income</th>\n",
       "      <th>purchase_amount</th>\n",
       "      <th>loyalty_score</th>\n",
       "      <th>purchase_frequency</th>\n",
       "    </tr>\n",
       "  </thead>\n",
       "  <tbody>\n",
       "    <tr>\n",
       "      <th>count</th>\n",
       "      <td>238.000000</td>\n",
       "      <td>238.000000</td>\n",
       "      <td>238.000000</td>\n",
       "      <td>238.000000</td>\n",
       "      <td>238.000000</td>\n",
       "      <td>238.000000</td>\n",
       "    </tr>\n",
       "    <tr>\n",
       "      <th>mean</th>\n",
       "      <td>119.500000</td>\n",
       "      <td>38.676471</td>\n",
       "      <td>57407.563025</td>\n",
       "      <td>425.630252</td>\n",
       "      <td>6.794118</td>\n",
       "      <td>19.798319</td>\n",
       "    </tr>\n",
       "    <tr>\n",
       "      <th>std</th>\n",
       "      <td>68.848868</td>\n",
       "      <td>9.351118</td>\n",
       "      <td>11403.875717</td>\n",
       "      <td>140.052062</td>\n",
       "      <td>1.899047</td>\n",
       "      <td>4.562884</td>\n",
       "    </tr>\n",
       "    <tr>\n",
       "      <th>min</th>\n",
       "      <td>1.000000</td>\n",
       "      <td>22.000000</td>\n",
       "      <td>30000.000000</td>\n",
       "      <td>150.000000</td>\n",
       "      <td>3.000000</td>\n",
       "      <td>10.000000</td>\n",
       "    </tr>\n",
       "    <tr>\n",
       "      <th>25%</th>\n",
       "      <td>60.250000</td>\n",
       "      <td>31.000000</td>\n",
       "      <td>50000.000000</td>\n",
       "      <td>320.000000</td>\n",
       "      <td>5.500000</td>\n",
       "      <td>17.000000</td>\n",
       "    </tr>\n",
       "    <tr>\n",
       "      <th>50%</th>\n",
       "      <td>119.500000</td>\n",
       "      <td>39.000000</td>\n",
       "      <td>59000.000000</td>\n",
       "      <td>440.000000</td>\n",
       "      <td>7.000000</td>\n",
       "      <td>20.000000</td>\n",
       "    </tr>\n",
       "    <tr>\n",
       "      <th>75%</th>\n",
       "      <td>178.750000</td>\n",
       "      <td>46.750000</td>\n",
       "      <td>66750.000000</td>\n",
       "      <td>527.500000</td>\n",
       "      <td>8.275000</td>\n",
       "      <td>23.000000</td>\n",
       "    </tr>\n",
       "    <tr>\n",
       "      <th>max</th>\n",
       "      <td>238.000000</td>\n",
       "      <td>55.000000</td>\n",
       "      <td>75000.000000</td>\n",
       "      <td>640.000000</td>\n",
       "      <td>9.500000</td>\n",
       "      <td>28.000000</td>\n",
       "    </tr>\n",
       "  </tbody>\n",
       "</table>\n",
       "</div>"
      ],
      "text/plain": [
       "          user_id         age  annual_income  purchase_amount  loyalty_score  \\\n",
       "count  238.000000  238.000000     238.000000       238.000000     238.000000   \n",
       "mean   119.500000   38.676471   57407.563025       425.630252       6.794118   \n",
       "std     68.848868    9.351118   11403.875717       140.052062       1.899047   \n",
       "min      1.000000   22.000000   30000.000000       150.000000       3.000000   \n",
       "25%     60.250000   31.000000   50000.000000       320.000000       5.500000   \n",
       "50%    119.500000   39.000000   59000.000000       440.000000       7.000000   \n",
       "75%    178.750000   46.750000   66750.000000       527.500000       8.275000   \n",
       "max    238.000000   55.000000   75000.000000       640.000000       9.500000   \n",
       "\n",
       "       purchase_frequency  \n",
       "count          238.000000  \n",
       "mean            19.798319  \n",
       "std              4.562884  \n",
       "min             10.000000  \n",
       "25%             17.000000  \n",
       "50%             20.000000  \n",
       "75%             23.000000  \n",
       "max             28.000000  "
      ]
     },
     "execution_count": 8,
     "metadata": {},
     "output_type": "execute_result"
    }
   ],
   "source": [
    "raw_data.describe()"
   ]
  },
  {
   "cell_type": "markdown",
   "id": "e6c38174",
   "metadata": {},
   "source": [
    "The above summary statistics gives a good overview of some basic customer information. For example, the average customer age is ~39, with an annual income of 57407.56 USD and an average yearly purchase amount of 425.63 USD. The average loyalty score is 6.8, which is great news for the company as it means that most customers remain loyal to the company. This is further supported by the average purchase frequency, which is ~20 times per year. The minimum and maximum values help to give an understanding of the range of data, which is especially important for understanding the features. Due to each feature being a different scale, the range of values varies greatly. This means the data will have to be standardized when building a machine learning model so the model is not biased towards a feature with greater scale than another.\n",
    "\n",
    "While these summary statistics are helpful for understanding the dataset, they are not optimal for a quick analysis. Below is a boxplot that represents the summary statistics for each feature."
   ]
  },
  {
   "cell_type": "code",
   "execution_count": 69,
   "id": "500ed982",
   "metadata": {},
   "outputs": [
    {
     "data": {
      "image/png": "[encoded data removed]",
      "text/plain": [
       "<Figure size 640x480 with 1 Axes>"
      ]
     },
     "metadata": {},
     "output_type": "display_data"
    },
    {
     "data": {
      "image/png": "[encoded data removed]",
      "text/plain": [
       "<Figure size 640x480 with 1 Axes>"
      ]
     },
     "metadata": {},
     "output_type": "display_data"
    },
    {
     "data": {
      "image/png": "[encoded data removed]",
      "text/plain": [
       "<Figure size 640x480 with 1 Axes>"
      ]
     },
     "metadata": {},
     "output_type": "display_data"
    },
    {
     "data": {
      "image/png": "[encoded data removed]",
      "text/plain": [
       "<Figure size 640x480 with 1 Axes>"
      ]
     },
     "metadata": {},
     "output_type": "display_data"
    },
    {
     "data": {
      "image/png": "[encoded data removed]",
      "text/plain": [
       "<Figure size 640x480 with 1 Axes>"
      ]
     },
     "metadata": {},
     "output_type": "display_data"
    }
   ],
   "source": [
    "# Create boxplot?\n",
    "\n",
    "features_to_box = ['age', 'annual_income', 'purchase_amount', 'loyalty_score', 'purchase_frequency']\n",
    "\n",
    "for f in features_to_box:\n",
    "    plt.boxplot(raw_data[f])\n",
    "    plt.title(f)\n",
    "    plt.xticks(ticks=None, labels=None)\n",
    "    plt.show()"
   ]
  },
  {
   "cell_type": "markdown",
   "id": "298a6d96",
   "metadata": {},
   "source": [
    "### Generate Visualizations"
   ]
  },
  {
   "cell_type": "markdown",
   "id": "964326bb",
   "metadata": {},
   "source": [
    "Before generating scatter plots to identify possible relationships between features, it is important to assess the distributions of data for each feature. Some machine learning models require data to be normally distributed, and plotting current distributions will help to identify if the Central Limit Theorem will need to be applied."
   ]
  },
  {
   "cell_type": "code",
   "execution_count": 11,
   "id": "b7eaee2c",
   "metadata": {},
   "outputs": [
    {
     "data": {
      "image/png": "[encoded data removed]",
      "text/plain": [
       "<Figure size 640x480 with 1 Axes>"
      ]
     },
     "metadata": {},
     "output_type": "display_data"
    },
    {
     "data": {
      "image/png": "[encoded data removed]",
      "text/plain": [
       "<Figure size 640x480 with 1 Axes>"
      ]
     },
     "metadata": {},
     "output_type": "display_data"
    },
    {
     "data": {
      "image/png": "[encoded data removed]",
      "text/plain": [
       "<Figure size 640x480 with 1 Axes>"
      ]
     },
     "metadata": {},
     "output_type": "display_data"
    },
    {
     "data": {
      "image/png": "[encoded data removed]",
      "text/plain": [
       "<Figure size 640x480 with 1 Axes>"
      ]
     },
     "metadata": {},
     "output_type": "display_data"
    },
    {
     "data": {
      "image/png": "[encoded data removed]",
      "text/plain": [
       "<Figure size 640x480 with 1 Axes>"
      ]
     },
     "metadata": {},
     "output_type": "display_data"
    }
   ],
   "source": [
    "# Histograms for age, annual income, purchase amount, loyalty score, and purchase frequency\n",
    "\n",
    "columns = ['age', 'annual_income', 'purchase_amount', 'loyalty_score', 'purchase_frequency']\n",
    "\n",
    "for c in columns:\n",
    "    plt.hist(raw_data[c])\n",
    "    plt.title(f'{c} distribution')\n",
    "    plt.xlabel(c)\n",
    "    plt.ylabel('frequency')\n",
    "    plt.show()"
   ]
  },
  {
   "cell_type": "markdown",
   "id": "f6704e5d",
   "metadata": {},
   "source": [
    "Due to the small dataset size, these distributions are not as clear as larger datasets. However, insights can still be gleaned. \n",
    "\n",
    "#### **Age Distribution**\n",
    "For the first distribution, age appears to take on a uniform distribution. This makes sense, as the dataset was designed to not be biased by the age of the customer. \n",
    "\n",
    "#### **Annual Income Distribution**\n",
    "The annual_income distribution appears to be slightly skewed to the left (negatively skewed), which means a larger portion of customers have annual incomes above the dataset average, with a few customers having annual incomes much lower than expected. \n",
    "\n",
    "#### **Purchase Amount Distribution**\n",
    "The purchase_amount distribution is actually quite tricky to assess. It appears to be somewhat normally distributed until the 600-650 bin, which contains a staggering number of customers, introducing skewness to the distribution. Therefore, additional data may be needed to confirm the distribution, but it appears to be negatively skewed.\n",
    "\n",
    "#### **Loyalty Score Distribution**\n",
    "The loyalty_score distribution is also skewed to the left, though this level of skewness is much higher than in the annual_income distribution. This means a majority of the customers in the dataset have high loyalty scores, which is good news for the company. If the distribution was skewed to the right, or even normally distributed around 5, it would be recommended that the company run some promotions to improve the loyalty of its customers. Thus, this negative skewness is a good sign for the company.\n",
    "\n",
    "#### **Purchase Frequency Distribution**\n",
    "The purchase_frequency ditribution appears to be normally distributed around the mean. The average purchase frequency, or number of purchases per year, seems to be between 18 and 20, which is around 1.5 times per month. This makes sense, as most of the customers have high loyalty scores, and so would be making purchases consistently throughout the year. "
   ]
  },
  {
   "cell_type": "code",
   "execution_count": 12,
   "id": "93c76b80",
   "metadata": {},
   "outputs": [
    {
     "data": {
      "image/png": "[encoded data removed]",
      "text/plain": [
       "<Figure size 640x480 with 1 Axes>"
      ]
     },
     "metadata": {},
     "output_type": "display_data"
    }
   ],
   "source": [
    "# Annual income by age\n",
    "plt.scatter(raw_data['age'], raw_data['annual_income'], alpha=0.4)\n",
    "plt.xlabel('Age')\n",
    "plt.ylabel('Annual Income')\n",
    "plt.title('Annual Income by Age')\n",
    "\n",
    "ax = plt.gca()\n",
    "ax.set_ylim([0, 100000])\n",
    "\n",
    "plt.show()"
   ]
  },
  {
   "cell_type": "markdown",
   "id": "04e6efd7",
   "metadata": {},
   "source": [
    "Annual and income appear to be linearly related, which is expected for the given age range. As customers advance in their careers, and get older, their annual income will increase. If the age bracket was lower (e.g., starting at 10), the relationship would appear to take on the shape of an exponential curve, with a big jump between the age of minimum-wage jobs and the age of post-graduate jobs. In this case, however, the age bracket is strictly post-graduate, so takes on a linear relationship."
   ]
  },
  {
   "cell_type": "code",
   "execution_count": 13,
   "id": "47a682de",
   "metadata": {},
   "outputs": [
    {
     "data": {
      "image/png": "[encoded data removed]",
      "text/plain": [
       "<Figure size 640x480 with 1 Axes>"
      ]
     },
     "metadata": {},
     "output_type": "display_data"
    }
   ],
   "source": [
    "# Annual income and purchase amount\n",
    "plt.scatter(raw_data['annual_income'], raw_data['purchase_amount'], alpha=0.4)\n",
    "plt.title('Annual Income on Purchase Amount')\n",
    "plt.xlabel('Annual Income')\n",
    "plt.ylabel('Purchase Amount')\n",
    "plt.show()"
   ]
  },
  {
   "cell_type": "markdown",
   "id": "7929768d",
   "metadata": {},
   "source": [
    "The relationship bewteen annual income and purchase amount is positively linear. As income increases, so too does the purchase amount."
   ]
  },
  {
   "cell_type": "code",
   "execution_count": 14,
   "id": "9249c5aa",
   "metadata": {},
   "outputs": [
    {
     "data": {
      "image/png": "[encoded data removed]",
      "text/plain": [
       "<Figure size 640x480 with 1 Axes>"
      ]
     },
     "metadata": {},
     "output_type": "display_data"
    }
   ],
   "source": [
    "# Average purchase frequency by region\n",
    "region_purchase = raw_data[['region', 'purchase_frequency']].groupby(['region'], as_index=False).mean()\n",
    "\n",
    "plt.bar(region_purchase['region'], region_purchase['purchase_frequency'])\n",
    "plt.title('Average Purchase Frequency by Region')\n",
    "    \n",
    "plt.show()"
   ]
  },
  {
   "cell_type": "markdown",
   "id": "40789f17",
   "metadata": {},
   "source": [
    "According to the bar chart, the West region has the highest average purchase frequency, with the South being second, the North being third, and the East being last. With that said, the average purchase frequency is not staggeringly low in any region, with all regions being between 17 and 25, respectively."
   ]
  },
  {
   "cell_type": "code",
   "execution_count": 15,
   "id": "bd116cb3",
   "metadata": {},
   "outputs": [
    {
     "data": {
      "image/png": "[encoded data removed]",
      "text/plain": [
       "<Figure size 640x480 with 1 Axes>"
      ]
     },
     "metadata": {},
     "output_type": "display_data"
    }
   ],
   "source": [
    "# Loyalty score by age\n",
    "plt.scatter(raw_data['age'], raw_data['loyalty_score'], alpha=0.4)\n",
    "plt.title('Loyalty Score by Age')\n",
    "plt.xlabel('Age')\n",
    "plt.ylabel('Loyalty Score')\n",
    "plt.show()"
   ]
  },
  {
   "cell_type": "markdown",
   "id": "11697a9c",
   "metadata": {},
   "source": [
    "Interestingly, the loyalty score and age relationship is positively linear. Perhaps this is the case because as someone gets older, they have a higher income, which leads them to purchase more and more often, thus increasing their loyalty to the company."
   ]
  },
  {
   "cell_type": "code",
   "execution_count": 16,
   "id": "15396a57",
   "metadata": {},
   "outputs": [],
   "source": [
    "# Average purchase frequency by loyalty score\n",
    "\n",
    "def calculate_avg_frequency(loyalty_score):\n",
    "    '''Function that calculates the average purchase frequency for a given loyalty score, rounded to a whole number'''\n",
    "    \n",
    "    purchase_frequencies_list = [n for n in raw_data[raw_data['loyalty_score'] == score]['purchase_frequency']]\n",
    "    purchase_frequencies_array = np.array(purchase_frequencies_list)\n",
    "    avg_freq = round(purchase_frequencies_array.mean())\n",
    "    \n",
    "    return avg_freq"
   ]
  },
  {
   "cell_type": "code",
   "execution_count": 17,
   "id": "3f4212af",
   "metadata": {},
   "outputs": [
    {
     "data": {
      "image/png": "[encoded data removed]",
      "text/plain": [
       "<Figure size 640x480 with 1 Axes>"
      ]
     },
     "metadata": {},
     "output_type": "display_data"
    }
   ],
   "source": [
    "# Create dictionary of average purchase frequency per loyalty score\n",
    "loyalty_scores = raw_data['loyalty_score'].unique()\n",
    "\n",
    "avg_per_score = {}\n",
    "indx = 0\n",
    "for score in loyalty_scores:\n",
    "    avg_per_score[indx] = [score, calculate_avg_frequency(score)]\n",
    "    indx += 1\n",
    "\n",
    "avg_per_score\n",
    "\n",
    "# Convert to Pandas DataFrame\n",
    "avg_freq_df = pd.DataFrame.from_dict(avg_per_score, orient='index', columns=['Loyalty Score', 'Avg Purchase Frequency'])\n",
    "\n",
    "plt.scatter(avg_freq_df['Loyalty Score'], avg_freq_df['Avg Purchase Frequency'], alpha=0.8)\n",
    "plt.title('Average Purchase Frequency by Loyalty Score')\n",
    "plt.xlabel('Loyalty Score')\n",
    "plt.ylabel('Average Purchase Frequency')\n",
    "plt.show()"
   ]
  },
  {
   "cell_type": "markdown",
   "id": "4405d60a",
   "metadata": {},
   "source": [
    "The average purchase frequency and loyalty score appears to be linearly related. More specifically, the features take on a postive linear relationship. This means the average purchase frequency of a customer has a direct correlation with the loyalty score they recieve. This fact, combined with the observed behavior of increasing annual incomes with increased ages, confirms the theory that age a customer's age indirectly impacts their loyalty score, simply because they have more money and can therefore spend more."
   ]
  },
  {
   "cell_type": "markdown",
   "id": "e23ea9f6",
   "metadata": {},
   "source": [
    "### Correlations"
   ]
  },
  {
   "cell_type": "markdown",
   "id": "dca9301e",
   "metadata": {},
   "source": [
    "The calculations for the correlation between features is given below. These correlation values will help to confirm the observed feature behaviors identified in the 'Generate Visualization' section above."
   ]
  },
  {
   "cell_type": "code",
   "execution_count": 18,
   "id": "faa53b24",
   "metadata": {},
   "outputs": [
    {
     "data": {
      "text/html": [
       "<div>\n",
       "<style scoped>\n",
       "    .dataframe tbody tr th:only-of-type {\n",
       "        vertical-align: middle;\n",
       "    }\n",
       "\n",
       "    .dataframe tbody tr th {\n",
       "        vertical-align: top;\n",
       "    }\n",
       "\n",
       "    .dataframe thead th {\n",
       "        text-align: right;\n",
       "    }\n",
       "</style>\n",
       "<table border=\"1\" class=\"dataframe\">\n",
       "  <thead>\n",
       "    <tr style=\"text-align: right;\">\n",
       "      <th></th>\n",
       "      <th>age</th>\n",
       "      <th>annual_income</th>\n",
       "      <th>purchase_amount</th>\n",
       "      <th>loyalty_score</th>\n",
       "      <th>purchase_frequency</th>\n",
       "    </tr>\n",
       "  </thead>\n",
       "  <tbody>\n",
       "    <tr>\n",
       "      <th>age</th>\n",
       "      <td>1.000000</td>\n",
       "      <td>0.974833</td>\n",
       "      <td>0.986140</td>\n",
       "      <td>0.981835</td>\n",
       "      <td>0.980532</td>\n",
       "    </tr>\n",
       "    <tr>\n",
       "      <th>annual_income</th>\n",
       "      <td>0.974833</td>\n",
       "      <td>1.000000</td>\n",
       "      <td>0.984208</td>\n",
       "      <td>0.984351</td>\n",
       "      <td>0.982920</td>\n",
       "    </tr>\n",
       "    <tr>\n",
       "      <th>purchase_amount</th>\n",
       "      <td>0.986140</td>\n",
       "      <td>0.984208</td>\n",
       "      <td>1.000000</td>\n",
       "      <td>0.994147</td>\n",
       "      <td>0.993579</td>\n",
       "    </tr>\n",
       "    <tr>\n",
       "      <th>loyalty_score</th>\n",
       "      <td>0.981835</td>\n",
       "      <td>0.984351</td>\n",
       "      <td>0.994147</td>\n",
       "      <td>1.000000</td>\n",
       "      <td>0.986990</td>\n",
       "    </tr>\n",
       "    <tr>\n",
       "      <th>purchase_frequency</th>\n",
       "      <td>0.980532</td>\n",
       "      <td>0.982920</td>\n",
       "      <td>0.993579</td>\n",
       "      <td>0.986990</td>\n",
       "      <td>1.000000</td>\n",
       "    </tr>\n",
       "  </tbody>\n",
       "</table>\n",
       "</div>"
      ],
      "text/plain": [
       "                         age  annual_income  purchase_amount  loyalty_score  \\\n",
       "age                 1.000000       0.974833         0.986140       0.981835   \n",
       "annual_income       0.974833       1.000000         0.984208       0.984351   \n",
       "purchase_amount     0.986140       0.984208         1.000000       0.994147   \n",
       "loyalty_score       0.981835       0.984351         0.994147       1.000000   \n",
       "purchase_frequency  0.980532       0.982920         0.993579       0.986990   \n",
       "\n",
       "                    purchase_frequency  \n",
       "age                           0.980532  \n",
       "annual_income                 0.982920  \n",
       "purchase_amount               0.993579  \n",
       "loyalty_score                 0.986990  \n",
       "purchase_frequency            1.000000  "
      ]
     },
     "execution_count": 18,
     "metadata": {},
     "output_type": "execute_result"
    }
   ],
   "source": [
    "raw_data[['age', 'annual_income', 'purchase_amount', 'loyalty_score', 'purchase_frequency']].corr()"
   ]
  },
  {
   "cell_type": "markdown",
   "id": "ca074f36",
   "metadata": {},
   "source": [
    "Based on the above correlation matrix, there appears to be a strong positive correlation between all features. As age increases, so too does annual income, purchase amount, loyalty score, and purchase frequency. Moreover, as each of these features increases, so too do the others. For example, as a customer's loyalty score increases, so too does the customer's age, annual income, purchase amount, and purchase frequency. This confirms the positive linearity observed between these features in the above section. However, it is important to note that correlation does not mean causation. This brings the study to the hypothesis testing section, where correlation will be tested further between age and annual income."
   ]
  },
  {
   "cell_type": "markdown",
   "id": "0bf42e3a",
   "metadata": {},
   "source": [
    "# Hypothesis Testing"
   ]
  },
  {
   "cell_type": "markdown",
   "id": "8f0662ba",
   "metadata": {},
   "source": [
    "It appears that there is a correlation between age and annual income. In other words, as the age of the customer increases, so too does annual income. Based on the above scatter plots, it also appears that customers who are older than 40 make significantly more than customers who are less than 40. In order to confirm or deny this theory, a hypothesis test will be conducted."
   ]
  },
  {
   "cell_type": "markdown",
   "id": "2382a6d3",
   "metadata": {},
   "source": [
    "**Hypothesis Test:** There is a statistical difference between the average annual incomes of customers below 40 versus customers above 40. We want to test whether customers who are older have jobs that pay more or if the average annual incomes of customers does not statistically vary much by age."
   ]
  },
  {
   "cell_type": "markdown",
   "id": "68dd4a86",
   "metadata": {},
   "source": [
    "**Null Hypothesis:** Average annual income of customers below 40 is greater than or equal to the average annual income of customers above 40.\n",
    "\n",
    "**Alternative Hypothesis:** Average annual income of customers below 40 is less than the average annual income of customers above 40."
   ]
  },
  {
   "cell_type": "code",
   "execution_count": 19,
   "id": "80abdc0c",
   "metadata": {},
   "outputs": [],
   "source": [
    "# Generate average samples from dataset\n",
    "\n",
    "# Define sampling function\n",
    "def calculate_averages(data, iterations, feature, sample_size):\n",
    "    averages = []\n",
    "    for i in range(iterations):\n",
    "        sample = random.sample(list(data[feature]), sample_size)\n",
    "        averages.append(np.mean(np.array(sample)))\n",
    "    return averages"
   ]
  },
  {
   "cell_type": "code",
   "execution_count": 20,
   "id": "c230c677",
   "metadata": {},
   "outputs": [],
   "source": [
    "# Extract records below and above forty\n",
    "\n",
    "below_forty = raw_data[raw_data['age'] < 40]\n",
    "above_forty = raw_data[raw_data['age'] >= 40]"
   ]
  },
  {
   "cell_type": "code",
   "execution_count": 21,
   "id": "5cad7b2d",
   "metadata": {},
   "outputs": [
    {
     "data": {
      "text/plain": [
       "[49750.0,\n",
       " 48800.0,\n",
       " 47800.0,\n",
       " 47550.0,\n",
       " 48900.0,\n",
       " 51150.0,\n",
       " 48350.0,\n",
       " 50400.0,\n",
       " 46000.0,\n",
       " 48900.0,\n",
       " 49250.0,\n",
       " 49150.0,\n",
       " 46950.0,\n",
       " 51000.0,\n",
       " 46800.0,\n",
       " 49300.0,\n",
       " 50700.0,\n",
       " 50300.0,\n",
       " 48350.0,\n",
       " 47500.0,\n",
       " 48100.0,\n",
       " 46600.0,\n",
       " 45550.0,\n",
       " 48700.0,\n",
       " 46950.0,\n",
       " 52000.0,\n",
       " 48700.0,\n",
       " 48950.0,\n",
       " 50600.0,\n",
       " 48650.0,\n",
       " 50000.0,\n",
       " 49350.0,\n",
       " 51500.0,\n",
       " 49750.0,\n",
       " 45850.0,\n",
       " 48550.0,\n",
       " 48900.0,\n",
       " 45900.0,\n",
       " 46650.0,\n",
       " 48300.0,\n",
       " 48600.0,\n",
       " 46800.0,\n",
       " 49900.0,\n",
       " 46750.0,\n",
       " 49750.0,\n",
       " 47100.0,\n",
       " 47200.0,\n",
       " 48650.0,\n",
       " 46250.0,\n",
       " 50900.0]"
      ]
     },
     "execution_count": 21,
     "metadata": {},
     "output_type": "execute_result"
    }
   ],
   "source": [
    "# Calculate below forty averages for sample\n",
    "\n",
    "below_forty_avgs = calculate_averages(below_forty, 50, 'annual_income', 20)\n",
    "below_forty_avgs"
   ]
  },
  {
   "cell_type": "code",
   "execution_count": 22,
   "id": "7e53e9eb",
   "metadata": {},
   "outputs": [
    {
     "data": {
      "image/png": "[encoded data removed]",
      "text/plain": [
       "<Figure size 640x480 with 1 Axes>"
      ]
     },
     "metadata": {},
     "output_type": "display_data"
    }
   ],
   "source": [
    "# Histogram of below forty averages\n",
    "\n",
    "plt.hist(below_forty_avgs)\n",
    "plt.title('Below Forty Salary Avgs Distribution')\n",
    "plt.xlabel('Average Salary')\n",
    "plt.ylabel('Frequency')\n",
    "plt.show()"
   ]
  },
  {
   "cell_type": "code",
   "execution_count": 23,
   "id": "3d711a46",
   "metadata": {},
   "outputs": [
    {
     "data": {
      "text/plain": [
       "[66650.0,\n",
       " 66350.0,\n",
       " 66850.0,\n",
       " 65800.0,\n",
       " 66650.0,\n",
       " 66750.0,\n",
       " 66300.0,\n",
       " 67500.0,\n",
       " 66850.0,\n",
       " 67950.0,\n",
       " 67500.0,\n",
       " 65500.0,\n",
       " 65900.0,\n",
       " 68050.0,\n",
       " 67800.0,\n",
       " 67000.0,\n",
       " 65900.0,\n",
       " 66550.0,\n",
       " 65400.0,\n",
       " 67800.0,\n",
       " 65500.0,\n",
       " 67350.0,\n",
       " 65400.0,\n",
       " 67500.0,\n",
       " 67750.0,\n",
       " 67300.0,\n",
       " 67200.0,\n",
       " 66900.0,\n",
       " 66400.0,\n",
       " 67900.0,\n",
       " 67950.0,\n",
       " 67000.0,\n",
       " 70250.0,\n",
       " 66550.0,\n",
       " 67000.0,\n",
       " 67150.0,\n",
       " 66550.0,\n",
       " 67250.0,\n",
       " 68700.0,\n",
       " 65450.0,\n",
       " 67800.0,\n",
       " 65550.0,\n",
       " 64850.0,\n",
       " 66900.0,\n",
       " 67950.0,\n",
       " 67800.0,\n",
       " 67300.0,\n",
       " 67850.0,\n",
       " 67000.0,\n",
       " 66950.0]"
      ]
     },
     "execution_count": 23,
     "metadata": {},
     "output_type": "execute_result"
    }
   ],
   "source": [
    "# Calculate above forty averages for sample\n",
    "\n",
    "above_forty_avgs = calculate_averages(above_forty, 50, 'annual_income', 20)\n",
    "above_forty_avgs"
   ]
  },
  {
   "cell_type": "code",
   "execution_count": 24,
   "id": "2eb559b8",
   "metadata": {},
   "outputs": [
    {
     "data": {
      "image/png": "[encoded data removed]",
      "text/plain": [
       "<Figure size 640x480 with 1 Axes>"
      ]
     },
     "metadata": {},
     "output_type": "display_data"
    }
   ],
   "source": [
    "# Histogram of above forty averages\n",
    "\n",
    "plt.hist(above_forty_avgs)\n",
    "plt.title('Above Forty Salary Avgs Distribution')\n",
    "plt.xlabel('Average Salary')\n",
    "plt.ylabel('Frequency')\n",
    "plt.show()"
   ]
  },
  {
   "cell_type": "markdown",
   "id": "f2850e2e",
   "metadata": {},
   "source": [
    "As seen from the above histograms, both samples of records appear to take on a similar shape. In other words, the extracted samples are normally distributed, and therefore, can be compared for a hypothesis test. However, it is important to confirm that both samples are normally distributed."
   ]
  },
  {
   "cell_type": "code",
   "execution_count": 25,
   "id": "fe20d304",
   "metadata": {},
   "outputs": [],
   "source": [
    "#Check assumption of normality"
   ]
  },
  {
   "cell_type": "code",
   "execution_count": 26,
   "id": "407f1cbb",
   "metadata": {},
   "outputs": [],
   "source": [
    "# Define normality function\n",
    "\n",
    "def check_normality(data):\n",
    "    test_stat_normality, p_value = stats.shapiro(data)\n",
    "    \n",
    "    print(f'p-value: {round(p_value, 2)}')\n",
    "    \n",
    "    if p_value < 0.05:\n",
    "        print('The data is not normally distributed')\n",
    "    else:\n",
    "        print('The data is normally distributed')"
   ]
  },
  {
   "cell_type": "code",
   "execution_count": 27,
   "id": "7ec57f21",
   "metadata": {},
   "outputs": [
    {
     "name": "stdout",
     "output_type": "stream",
     "text": [
      "p-value: 0.44\n",
      "The data is normally distributed\n"
     ]
    }
   ],
   "source": [
    "check_normality(below_forty_avgs)"
   ]
  },
  {
   "cell_type": "code",
   "execution_count": 28,
   "id": "826c4528",
   "metadata": {},
   "outputs": [
    {
     "name": "stdout",
     "output_type": "stream",
     "text": [
      "p-value: 0.06\n",
      "The data is normally distributed\n"
     ]
    }
   ],
   "source": [
    "check_normality(above_forty_avgs)"
   ]
  },
  {
   "cell_type": "markdown",
   "id": "de54df83",
   "metadata": {},
   "source": [
    "As expected, the samples are both normally distributed. From the histograms, customers below forty appear to have a wider dispertion of annual salaries compared to customers above forty. A different in variance will not affect the outcome of the hypothesis test in this case, but it is still important to confirm."
   ]
  },
  {
   "cell_type": "code",
   "execution_count": 29,
   "id": "90ce0629",
   "metadata": {},
   "outputs": [],
   "source": [
    "# Check assumption of variance"
   ]
  },
  {
   "cell_type": "code",
   "execution_count": 30,
   "id": "a392eea9",
   "metadata": {},
   "outputs": [],
   "source": [
    "# Define variance function\n",
    "\n",
    "def check_variance(dataset1, dataset2):\n",
    "    test_stat_variance, p_value = stats.levene(dataset1, dataset2)\n",
    "    \n",
    "    print(f'p-value: {round(p_value, 2)}')\n",
    "    \n",
    "    if p_value < 0.05:\n",
    "        print('The variances of the samples are different.')\n",
    "    else:\n",
    "        print('The variances of the samples are same.')"
   ]
  },
  {
   "cell_type": "code",
   "execution_count": 31,
   "id": "34226b9b",
   "metadata": {},
   "outputs": [
    {
     "name": "stdout",
     "output_type": "stream",
     "text": [
      "p-value: 0.0\n",
      "The variances of the samples are different.\n"
     ]
    }
   ],
   "source": [
    "check_variance(below_forty_avgs, above_forty_avgs)"
   ]
  },
  {
   "cell_type": "markdown",
   "id": "34e4b709",
   "metadata": {},
   "source": [
    "The two variances of the samples are indeed different. This is a beginning indication that the average annual salary of customers below forty is, from a statistical significance perspective, lower than customers above forty. With those assumptions identified, a test statistic can now be calculated. Because the means of samples are being compared, a t-test will be used."
   ]
  },
  {
   "cell_type": "code",
   "execution_count": 32,
   "id": "4aadb399",
   "metadata": {},
   "outputs": [
    {
     "name": "stdout",
     "output_type": "stream",
     "text": [
      "P-value: 0.0\n",
      "Reject null hypothesis\n"
     ]
    }
   ],
   "source": [
    "# Calculate test statistic\n",
    "ttest, p_value = stats.ttest_ind(below_forty_avgs, above_forty_avgs)\n",
    "\n",
    "# Since the hypothesis is one sided use p_value/2\n",
    "print(f'P-value: {round(p_value/2, 2)}')\n",
    "\n",
    "\n",
    "if p_value/2 <0.05:\n",
    "    print(\"Reject null hypothesis\")\n",
    "else:\n",
    "    print(\"Fail to reject null hypothesis\")"
   ]
  },
  {
   "cell_type": "markdown",
   "id": "1f5e7b35",
   "metadata": {},
   "source": [
    "### Conclusion"
   ]
  },
  {
   "cell_type": "markdown",
   "id": "b77b1413",
   "metadata": {},
   "source": [
    "With a P-value well below the alpha value of 0.05, the null hypothesis is rejected. This means there is a statistical significance of the average salary between samples of customers below forty and samples of customers above forty. Moreover, the null hypothesis being rejected also means that the average annual income of customers below 40 is less than the average annual income of customers above 40. This is important for those at this company desigining compaigns and other marketing materials, as some advertisements may not be effective in customers below forty due to having statistically less money than customers above forty. Thus, the company may seek to target these two segments of customers separately, resulting in more personalized advertisements. Younger customers had lower loyalty scores, most likely due to having less disposable income. A more personalized advertisement or special discount would help to increase purchases from these customers, resulting in increased loyalty."
   ]
  },
  {
   "cell_type": "markdown",
   "id": "41092f75",
   "metadata": {},
   "source": [
    "# Data Modeling"
   ]
  },
  {
   "cell_type": "markdown",
   "id": "854fd76b",
   "metadata": {},
   "source": [
    "A company wants to introduce a discount as part of a marketing campaign to bring in new customers, but is not sure how much a given customer would purchase. Using the given dataset, a linear regression model will be developed to predict the purchase amount of a customer based on a set of characteristics.\n",
    "\n",
    "Customer Characteristics:\n",
    "- Age\n",
    "- Annual Income\n",
    "\n",
    "To start, the given features need to be extracted and standardized."
   ]
  },
  {
   "cell_type": "markdown",
   "id": "16d3269b",
   "metadata": {},
   "source": [
    "### Extarct and Standardize Features"
   ]
  },
  {
   "cell_type": "code",
   "execution_count": 33,
   "id": "c9215481",
   "metadata": {},
   "outputs": [],
   "source": [
    "# Extract age, annual_income, and purchase_amount\n",
    "extract = raw_data[['age', 'annual_income', 'purchase_amount']]"
   ]
  },
  {
   "cell_type": "code",
   "execution_count": 34,
   "id": "bf023c19",
   "metadata": {},
   "outputs": [
    {
     "data": {
      "text/html": [
       "<div>\n",
       "<style scoped>\n",
       "    .dataframe tbody tr th:only-of-type {\n",
       "        vertical-align: middle;\n",
       "    }\n",
       "\n",
       "    .dataframe tbody tr th {\n",
       "        vertical-align: top;\n",
       "    }\n",
       "\n",
       "    .dataframe thead th {\n",
       "        text-align: right;\n",
       "    }\n",
       "</style>\n",
       "<table border=\"1\" class=\"dataframe\">\n",
       "  <thead>\n",
       "    <tr style=\"text-align: right;\">\n",
       "      <th></th>\n",
       "      <th>age</th>\n",
       "      <th>annual_income</th>\n",
       "      <th>purchase_amount</th>\n",
       "    </tr>\n",
       "  </thead>\n",
       "  <tbody>\n",
       "    <tr>\n",
       "      <th>0</th>\n",
       "      <td>-1.465632</td>\n",
       "      <td>-1.090306</td>\n",
       "      <td>-1.614441</td>\n",
       "    </tr>\n",
       "    <tr>\n",
       "      <th>1</th>\n",
       "      <td>-0.501151</td>\n",
       "      <td>-0.211563</td>\n",
       "      <td>-0.541153</td>\n",
       "    </tr>\n",
       "    <tr>\n",
       "      <th>2</th>\n",
       "      <td>0.677658</td>\n",
       "      <td>0.667180</td>\n",
       "      <td>0.532134</td>\n",
       "    </tr>\n",
       "    <tr>\n",
       "      <th>3</th>\n",
       "      <td>-1.787125</td>\n",
       "      <td>-2.408420</td>\n",
       "      <td>-1.972203</td>\n",
       "    </tr>\n",
       "    <tr>\n",
       "      <th>4</th>\n",
       "      <td>-1.036974</td>\n",
       "      <td>-0.914557</td>\n",
       "      <td>-1.471336</td>\n",
       "    </tr>\n",
       "    <tr>\n",
       "      <th>...</th>\n",
       "      <td>...</td>\n",
       "      <td>...</td>\n",
       "      <td>...</td>\n",
       "    </tr>\n",
       "    <tr>\n",
       "      <th>233</th>\n",
       "      <td>0.141835</td>\n",
       "      <td>0.227809</td>\n",
       "      <td>0.174372</td>\n",
       "    </tr>\n",
       "    <tr>\n",
       "      <th>234</th>\n",
       "      <td>-0.072494</td>\n",
       "      <td>0.139934</td>\n",
       "      <td>0.031267</td>\n",
       "    </tr>\n",
       "    <tr>\n",
       "      <th>235</th>\n",
       "      <td>1.642138</td>\n",
       "      <td>1.458049</td>\n",
       "      <td>1.462317</td>\n",
       "    </tr>\n",
       "    <tr>\n",
       "      <th>236</th>\n",
       "      <td>-0.715480</td>\n",
       "      <td>-0.475186</td>\n",
       "      <td>-0.469601</td>\n",
       "    </tr>\n",
       "    <tr>\n",
       "      <th>237</th>\n",
       "      <td>-0.822645</td>\n",
       "      <td>-0.563060</td>\n",
       "      <td>-0.612706</td>\n",
       "    </tr>\n",
       "  </tbody>\n",
       "</table>\n",
       "<p>238 rows × 3 columns</p>\n",
       "</div>"
      ],
      "text/plain": [
       "          age  annual_income  purchase_amount\n",
       "0   -1.465632      -1.090306        -1.614441\n",
       "1   -0.501151      -0.211563        -0.541153\n",
       "2    0.677658       0.667180         0.532134\n",
       "3   -1.787125      -2.408420        -1.972203\n",
       "4   -1.036974      -0.914557        -1.471336\n",
       "..        ...            ...              ...\n",
       "233  0.141835       0.227809         0.174372\n",
       "234 -0.072494       0.139934         0.031267\n",
       "235  1.642138       1.458049         1.462317\n",
       "236 -0.715480      -0.475186        -0.469601\n",
       "237 -0.822645      -0.563060        -0.612706\n",
       "\n",
       "[238 rows x 3 columns]"
      ]
     },
     "execution_count": 34,
     "metadata": {},
     "output_type": "execute_result"
    }
   ],
   "source": [
    "# Initialize instance of StandardScaler\n",
    "scaler = StandardScaler()\n",
    "\n",
    "# Fit with DataFrame\n",
    "extract_scaled = pd.DataFrame(scaler.fit_transform(extract), columns=extract.columns)\n",
    "\n",
    "extract_scaled"
   ]
  },
  {
   "cell_type": "code",
   "execution_count": 35,
   "id": "b27fad56",
   "metadata": {},
   "outputs": [],
   "source": [
    "# Split data into explanatory variables (features) and the target variable\n",
    "features = extract_scaled[['age', 'annual_income']]\n",
    "target = extract_scaled[['purchase_amount']]"
   ]
  },
  {
   "cell_type": "markdown",
   "id": "6a273e9b",
   "metadata": {},
   "source": [
    "### Develop Model\n",
    "\n",
    "With the data standardized, the dataset can be split into training and test sets, and a LinearRegression model can be initialized. "
   ]
  },
  {
   "cell_type": "code",
   "execution_count": 36,
   "id": "3beb6191",
   "metadata": {},
   "outputs": [],
   "source": [
    "# Split data into train and test data\n",
    "X_train, X_test, y_train, y_test = train_test_split(features, target, test_size=0.3, random_state=42)"
   ]
  },
  {
   "cell_type": "code",
   "execution_count": 37,
   "id": "a1ba09e5",
   "metadata": {},
   "outputs": [],
   "source": [
    "# Initialize instance of LinearRegression\n",
    "lr_model = LinearRegression()"
   ]
  },
  {
   "cell_type": "code",
   "execution_count": 38,
   "id": "ab6bfca6",
   "metadata": {},
   "outputs": [
    {
     "data": {
      "text/html": [
       "<style>#sk-container-id-1 {color: black;}#sk-container-id-1 pre{padding: 0;}#sk-container-id-1 div.sk-toggleable {background-color: white;}#sk-container-id-1 label.sk-toggleable__label {cursor: pointer;display: block;width: 100%;margin-bottom: 0;padding: 0.3em;box-sizing: border-box;text-align: center;}#sk-container-id-1 label.sk-toggleable__label-arrow:before {content: \"▸\";float: left;margin-right: 0.25em;color: #696969;}#sk-container-id-1 label.sk-toggleable__label-arrow:hover:before {color: black;}#sk-container-id-1 div.sk-estimator:hover label.sk-toggleable__label-arrow:before {color: black;}#sk-container-id-1 div.sk-toggleable__content {max-height: 0;max-width: 0;overflow: hidden;text-align: left;background-color: #f0f8ff;}#sk-container-id-1 div.sk-toggleable__content pre {margin: 0.2em;color: black;border-radius: 0.25em;background-color: #f0f8ff;}#sk-container-id-1 input.sk-toggleable__control:checked~div.sk-toggleable__content {max-height: 200px;max-width: 100%;overflow: auto;}#sk-container-id-1 input.sk-toggleable__control:checked~label.sk-toggleable__label-arrow:before {content: \"▾\";}#sk-container-id-1 div.sk-estimator input.sk-toggleable__control:checked~label.sk-toggleable__label {background-color: #d4ebff;}#sk-container-id-1 div.sk-label input.sk-toggleable__control:checked~label.sk-toggleable__label {background-color: #d4ebff;}#sk-container-id-1 input.sk-hidden--visually {border: 0;clip: rect(1px 1px 1px 1px);clip: rect(1px, 1px, 1px, 1px);height: 1px;margin: -1px;overflow: hidden;padding: 0;position: absolute;width: 1px;}#sk-container-id-1 div.sk-estimator {font-family: monospace;background-color: #f0f8ff;border: 1px dotted black;border-radius: 0.25em;box-sizing: border-box;margin-bottom: 0.5em;}#sk-container-id-1 div.sk-estimator:hover {background-color: #d4ebff;}#sk-container-id-1 div.sk-parallel-item::after {content: \"\";width: 100%;border-bottom: 1px solid gray;flex-grow: 1;}#sk-container-id-1 div.sk-label:hover label.sk-toggleable__label {background-color: #d4ebff;}#sk-container-id-1 div.sk-serial::before {content: \"\";position: absolute;border-left: 1px solid gray;box-sizing: border-box;top: 0;bottom: 0;left: 50%;z-index: 0;}#sk-container-id-1 div.sk-serial {display: flex;flex-direction: column;align-items: center;background-color: white;padding-right: 0.2em;padding-left: 0.2em;position: relative;}#sk-container-id-1 div.sk-item {position: relative;z-index: 1;}#sk-container-id-1 div.sk-parallel {display: flex;align-items: stretch;justify-content: center;background-color: white;position: relative;}#sk-container-id-1 div.sk-item::before, #sk-container-id-1 div.sk-parallel-item::before {content: \"\";position: absolute;border-left: 1px solid gray;box-sizing: border-box;top: 0;bottom: 0;left: 50%;z-index: -1;}#sk-container-id-1 div.sk-parallel-item {display: flex;flex-direction: column;z-index: 1;position: relative;background-color: white;}#sk-container-id-1 div.sk-parallel-item:first-child::after {align-self: flex-end;width: 50%;}#sk-container-id-1 div.sk-parallel-item:last-child::after {align-self: flex-start;width: 50%;}#sk-container-id-1 div.sk-parallel-item:only-child::after {width: 0;}#sk-container-id-1 div.sk-dashed-wrapped {border: 1px dashed gray;margin: 0 0.4em 0.5em 0.4em;box-sizing: border-box;padding-bottom: 0.4em;background-color: white;}#sk-container-id-1 div.sk-label label {font-family: monospace;font-weight: bold;display: inline-block;line-height: 1.2em;}#sk-container-id-1 div.sk-label-container {text-align: center;}#sk-container-id-1 div.sk-container {/* jupyter's `normalize.less` sets `[hidden] { display: none; }` but bootstrap.min.css set `[hidden] { display: none !important; }` so we also need the `!important` here to be able to override the default hidden behavior on the sphinx rendered scikit-learn.org. See: https://github.com/scikit-learn/scikit-learn/issues/21755 */display: inline-block !important;position: relative;}#sk-container-id-1 div.sk-text-repr-fallback {display: none;}</style><div id=\"sk-container-id-1\" class=\"sk-top-container\"><div class=\"sk-text-repr-fallback\"><pre>LinearRegression()</pre><b>In a Jupyter environment, please rerun this cell to show the HTML representation or trust the notebook. <br />On GitHub, the HTML representation is unable to render, please try loading this page with nbviewer.org.</b></div><div class=\"sk-container\" hidden><div class=\"sk-item\"><div class=\"sk-estimator sk-toggleable\"><input class=\"sk-toggleable__control sk-hidden--visually\" id=\"sk-estimator-id-1\" type=\"checkbox\" checked><label for=\"sk-estimator-id-1\" class=\"sk-toggleable__label sk-toggleable__label-arrow\">LinearRegression</label><div class=\"sk-toggleable__content\"><pre>LinearRegression()</pre></div></div></div></div></div>"
      ],
      "text/plain": [
       "LinearRegression()"
      ]
     },
     "execution_count": 38,
     "metadata": {},
     "output_type": "execute_result"
    }
   ],
   "source": [
    "# Fit model with train data\n",
    "lr_model.fit(X_train, y_train)"
   ]
  },
  {
   "cell_type": "markdown",
   "id": "715ea177",
   "metadata": {},
   "source": [
    "### Predict Values and Assess Model Performance\n",
    "\n",
    "Now that the LinearRegression model has been fit with the training data, the test data can be used to generate predictions. From there, model accuracy will be assessed using these predictions. It is important to note that the predictions will be in a standardized format."
   ]
  },
  {
   "cell_type": "code",
   "execution_count": 39,
   "id": "99fa5b17",
   "metadata": {},
   "outputs": [],
   "source": [
    "# Predict with test data\n",
    "predictions = lr_model.predict(X_test)"
   ]
  },
  {
   "cell_type": "code",
   "execution_count": 40,
   "id": "3c6cfe6c",
   "metadata": {},
   "outputs": [],
   "source": [
    "# Compare predictions with actual y-values\n",
    "\n",
    "def compare_predicts_actual(predictions, actual):\n",
    "\n",
    "    predicts = []\n",
    "    for p in predictions.tolist():\n",
    "        predicts.append(p[0])\n",
    "\n",
    "    comparison = {'Predictions': predicts,\n",
    "                  'Actual Values': list(actual)}\n",
    "\n",
    "    comparison_df = pd.DataFrame(comparison)\n",
    "    return comparison_df"
   ]
  },
  {
   "cell_type": "code",
   "execution_count": 41,
   "id": "aa326f0f",
   "metadata": {},
   "outputs": [
    {
     "data": {
      "text/html": [
       "<div>\n",
       "<style scoped>\n",
       "    .dataframe tbody tr th:only-of-type {\n",
       "        vertical-align: middle;\n",
       "    }\n",
       "\n",
       "    .dataframe tbody tr th {\n",
       "        vertical-align: top;\n",
       "    }\n",
       "\n",
       "    .dataframe thead th {\n",
       "        text-align: right;\n",
       "    }\n",
       "</style>\n",
       "<table border=\"1\" class=\"dataframe\">\n",
       "  <thead>\n",
       "    <tr style=\"text-align: right;\">\n",
       "      <th></th>\n",
       "      <th>Predictions</th>\n",
       "      <th>Actual Values</th>\n",
       "    </tr>\n",
       "  </thead>\n",
       "  <tbody>\n",
       "    <tr>\n",
       "      <th>0</th>\n",
       "      <td>1.559250</td>\n",
       "      <td>1.462317</td>\n",
       "    </tr>\n",
       "    <tr>\n",
       "      <th>1</th>\n",
       "      <td>-1.987557</td>\n",
       "      <td>-1.900651</td>\n",
       "    </tr>\n",
       "    <tr>\n",
       "      <th>2</th>\n",
       "      <td>1.266520</td>\n",
       "      <td>1.247659</td>\n",
       "    </tr>\n",
       "    <tr>\n",
       "      <th>3</th>\n",
       "      <td>1.168944</td>\n",
       "      <td>1.247659</td>\n",
       "    </tr>\n",
       "    <tr>\n",
       "      <th>4</th>\n",
       "      <td>-0.284117</td>\n",
       "      <td>-0.183391</td>\n",
       "    </tr>\n",
       "    <tr>\n",
       "      <th>...</th>\n",
       "      <td>...</td>\n",
       "      <td>...</td>\n",
       "    </tr>\n",
       "    <tr>\n",
       "      <th>67</th>\n",
       "      <td>-0.056057</td>\n",
       "      <td>-0.040286</td>\n",
       "    </tr>\n",
       "    <tr>\n",
       "      <th>68</th>\n",
       "      <td>0.193178</td>\n",
       "      <td>0.174372</td>\n",
       "    </tr>\n",
       "    <tr>\n",
       "      <th>69</th>\n",
       "      <td>-1.064730</td>\n",
       "      <td>-1.256678</td>\n",
       "    </tr>\n",
       "    <tr>\n",
       "      <th>70</th>\n",
       "      <td>-0.284117</td>\n",
       "      <td>-0.183391</td>\n",
       "    </tr>\n",
       "    <tr>\n",
       "      <th>71</th>\n",
       "      <td>0.193178</td>\n",
       "      <td>0.174372</td>\n",
       "    </tr>\n",
       "  </tbody>\n",
       "</table>\n",
       "<p>72 rows × 2 columns</p>\n",
       "</div>"
      ],
      "text/plain": [
       "    Predictions  Actual Values\n",
       "0      1.559250       1.462317\n",
       "1     -1.987557      -1.900651\n",
       "2      1.266520       1.247659\n",
       "3      1.168944       1.247659\n",
       "4     -0.284117      -0.183391\n",
       "..          ...            ...\n",
       "67    -0.056057      -0.040286\n",
       "68     0.193178       0.174372\n",
       "69    -1.064730      -1.256678\n",
       "70    -0.284117      -0.183391\n",
       "71     0.193178       0.174372\n",
       "\n",
       "[72 rows x 2 columns]"
      ]
     },
     "execution_count": 41,
     "metadata": {},
     "output_type": "execute_result"
    }
   ],
   "source": [
    "compare_df = compare_predicts_actual(predictions, y_test['purchase_amount'])\n",
    "compare_df"
   ]
  },
  {
   "cell_type": "markdown",
   "id": "438a22ed",
   "metadata": {},
   "source": [
    "The two statistics used to assess model accuracy will be mean-squared error (MSE) and R^2"
   ]
  },
  {
   "cell_type": "code",
   "execution_count": 42,
   "id": "1f30ef9b",
   "metadata": {},
   "outputs": [
    {
     "name": "stdout",
     "output_type": "stream",
     "text": [
      "MSE: 0.01525\n"
     ]
    }
   ],
   "source": [
    "# MSE\n",
    "\n",
    "# Given values\n",
    "y_true = compare_df['Actual Values']  # Original values\n",
    "y_pred = compare_df['Predictions']  # Predicted values\n",
    "\n",
    "# Calculate Mean Squared Error\n",
    "mse_value = mean_squared_error(y_true, y_pred)\n",
    "print(f\"MSE: {mse_value:.5f}\")\n"
   ]
  },
  {
   "cell_type": "code",
   "execution_count": 43,
   "id": "5dd87e45",
   "metadata": {},
   "outputs": [
    {
     "name": "stdout",
     "output_type": "stream",
     "text": [
      "R^2 Score: 0.98666\n"
     ]
    }
   ],
   "source": [
    "# r^2\n",
    "\n",
    "r2 = r2_score(y_true, y_pred)\n",
    "print(f\"R^2 Score: {r2:.5f}\")"
   ]
  },
  {
   "cell_type": "markdown",
   "id": "e63cdb0c",
   "metadata": {},
   "source": [
    "A low MSE value means that there is very little error between the actual and predicted values, which is a good sign for model performance. However, a low MSE value could also indicate underfitting if the R^2 value is low. Fortunately, the R^2 value is high, providing further support for a model with high performance. Therefore, the chosen LinearRegression model was a good choice for this dataset and corresponding features. However, With this current model, it is difficult to actually use the predictions, as they are in a standardized format. Building a pipeline will help to resolve this issue and make the LinearRegression model usable. Moreover, a pipeline will allow for easy standardizing and unstadardizing of predictions."
   ]
  },
  {
   "cell_type": "markdown",
   "id": "2f32358e",
   "metadata": {},
   "source": [
    "### Create pipeline"
   ]
  },
  {
   "cell_type": "code",
   "execution_count": 44,
   "id": "d4c1cbe6",
   "metadata": {},
   "outputs": [],
   "source": [
    "# Split data into explanatory variables and the target variable\n",
    "features = extract[['age', 'annual_income']]\n",
    "target = extract[['purchase_amount']]"
   ]
  },
  {
   "cell_type": "code",
   "execution_count": 45,
   "id": "b1b36c7a",
   "metadata": {},
   "outputs": [],
   "source": [
    "# Split data into train and test data\n",
    "X_train, X_test, y_train, y_test = train_test_split(features, target, test_size=0.3, random_state=42)"
   ]
  },
  {
   "cell_type": "code",
   "execution_count": 46,
   "id": "f43630a7",
   "metadata": {},
   "outputs": [],
   "source": [
    "# Initialize the Pipeline with the standardization and model-development steps\n",
    "pipe = Pipeline([('scaler', StandardScaler()), ('linear_regression', LinearRegression())])"
   ]
  },
  {
   "cell_type": "code",
   "execution_count": 47,
   "id": "0804f147",
   "metadata": {},
   "outputs": [
    {
     "data": {
      "text/html": [
       "<style>#sk-container-id-2 {color: black;}#sk-container-id-2 pre{padding: 0;}#sk-container-id-2 div.sk-toggleable {background-color: white;}#sk-container-id-2 label.sk-toggleable__label {cursor: pointer;display: block;width: 100%;margin-bottom: 0;padding: 0.3em;box-sizing: border-box;text-align: center;}#sk-container-id-2 label.sk-toggleable__label-arrow:before {content: \"▸\";float: left;margin-right: 0.25em;color: #696969;}#sk-container-id-2 label.sk-toggleable__label-arrow:hover:before {color: black;}#sk-container-id-2 div.sk-estimator:hover label.sk-toggleable__label-arrow:before {color: black;}#sk-container-id-2 div.sk-toggleable__content {max-height: 0;max-width: 0;overflow: hidden;text-align: left;background-color: #f0f8ff;}#sk-container-id-2 div.sk-toggleable__content pre {margin: 0.2em;color: black;border-radius: 0.25em;background-color: #f0f8ff;}#sk-container-id-2 input.sk-toggleable__control:checked~div.sk-toggleable__content {max-height: 200px;max-width: 100%;overflow: auto;}#sk-container-id-2 input.sk-toggleable__control:checked~label.sk-toggleable__label-arrow:before {content: \"▾\";}#sk-container-id-2 div.sk-estimator input.sk-toggleable__control:checked~label.sk-toggleable__label {background-color: #d4ebff;}#sk-container-id-2 div.sk-label input.sk-toggleable__control:checked~label.sk-toggleable__label {background-color: #d4ebff;}#sk-container-id-2 input.sk-hidden--visually {border: 0;clip: rect(1px 1px 1px 1px);clip: rect(1px, 1px, 1px, 1px);height: 1px;margin: -1px;overflow: hidden;padding: 0;position: absolute;width: 1px;}#sk-container-id-2 div.sk-estimator {font-family: monospace;background-color: #f0f8ff;border: 1px dotted black;border-radius: 0.25em;box-sizing: border-box;margin-bottom: 0.5em;}#sk-container-id-2 div.sk-estimator:hover {background-color: #d4ebff;}#sk-container-id-2 div.sk-parallel-item::after {content: \"\";width: 100%;border-bottom: 1px solid gray;flex-grow: 1;}#sk-container-id-2 div.sk-label:hover label.sk-toggleable__label {background-color: #d4ebff;}#sk-container-id-2 div.sk-serial::before {content: \"\";position: absolute;border-left: 1px solid gray;box-sizing: border-box;top: 0;bottom: 0;left: 50%;z-index: 0;}#sk-container-id-2 div.sk-serial {display: flex;flex-direction: column;align-items: center;background-color: white;padding-right: 0.2em;padding-left: 0.2em;position: relative;}#sk-container-id-2 div.sk-item {position: relative;z-index: 1;}#sk-container-id-2 div.sk-parallel {display: flex;align-items: stretch;justify-content: center;background-color: white;position: relative;}#sk-container-id-2 div.sk-item::before, #sk-container-id-2 div.sk-parallel-item::before {content: \"\";position: absolute;border-left: 1px solid gray;box-sizing: border-box;top: 0;bottom: 0;left: 50%;z-index: -1;}#sk-container-id-2 div.sk-parallel-item {display: flex;flex-direction: column;z-index: 1;position: relative;background-color: white;}#sk-container-id-2 div.sk-parallel-item:first-child::after {align-self: flex-end;width: 50%;}#sk-container-id-2 div.sk-parallel-item:last-child::after {align-self: flex-start;width: 50%;}#sk-container-id-2 div.sk-parallel-item:only-child::after {width: 0;}#sk-container-id-2 div.sk-dashed-wrapped {border: 1px dashed gray;margin: 0 0.4em 0.5em 0.4em;box-sizing: border-box;padding-bottom: 0.4em;background-color: white;}#sk-container-id-2 div.sk-label label {font-family: monospace;font-weight: bold;display: inline-block;line-height: 1.2em;}#sk-container-id-2 div.sk-label-container {text-align: center;}#sk-container-id-2 div.sk-container {/* jupyter's `normalize.less` sets `[hidden] { display: none; }` but bootstrap.min.css set `[hidden] { display: none !important; }` so we also need the `!important` here to be able to override the default hidden behavior on the sphinx rendered scikit-learn.org. See: https://github.com/scikit-learn/scikit-learn/issues/21755 */display: inline-block !important;position: relative;}#sk-container-id-2 div.sk-text-repr-fallback {display: none;}</style><div id=\"sk-container-id-2\" class=\"sk-top-container\"><div class=\"sk-text-repr-fallback\"><pre>Pipeline(steps=[(&#x27;scaler&#x27;, StandardScaler()),\n",
       "                (&#x27;linear_regression&#x27;, LinearRegression())])</pre><b>In a Jupyter environment, please rerun this cell to show the HTML representation or trust the notebook. <br />On GitHub, the HTML representation is unable to render, please try loading this page with nbviewer.org.</b></div><div class=\"sk-container\" hidden><div class=\"sk-item sk-dashed-wrapped\"><div class=\"sk-label-container\"><div class=\"sk-label sk-toggleable\"><input class=\"sk-toggleable__control sk-hidden--visually\" id=\"sk-estimator-id-2\" type=\"checkbox\" ><label for=\"sk-estimator-id-2\" class=\"sk-toggleable__label sk-toggleable__label-arrow\">Pipeline</label><div class=\"sk-toggleable__content\"><pre>Pipeline(steps=[(&#x27;scaler&#x27;, StandardScaler()),\n",
       "                (&#x27;linear_regression&#x27;, LinearRegression())])</pre></div></div></div><div class=\"sk-serial\"><div class=\"sk-item\"><div class=\"sk-estimator sk-toggleable\"><input class=\"sk-toggleable__control sk-hidden--visually\" id=\"sk-estimator-id-3\" type=\"checkbox\" ><label for=\"sk-estimator-id-3\" class=\"sk-toggleable__label sk-toggleable__label-arrow\">StandardScaler</label><div class=\"sk-toggleable__content\"><pre>StandardScaler()</pre></div></div></div><div class=\"sk-item\"><div class=\"sk-estimator sk-toggleable\"><input class=\"sk-toggleable__control sk-hidden--visually\" id=\"sk-estimator-id-4\" type=\"checkbox\" ><label for=\"sk-estimator-id-4\" class=\"sk-toggleable__label sk-toggleable__label-arrow\">LinearRegression</label><div class=\"sk-toggleable__content\"><pre>LinearRegression()</pre></div></div></div></div></div></div></div>"
      ],
      "text/plain": [
       "Pipeline(steps=[('scaler', StandardScaler()),\n",
       "                ('linear_regression', LinearRegression())])"
      ]
     },
     "execution_count": 47,
     "metadata": {},
     "output_type": "execute_result"
    }
   ],
   "source": [
    "# Fit the pipeline just like a regular model\n",
    "pipe.fit(X_train, y_train)"
   ]
  },
  {
   "cell_type": "code",
   "execution_count": 48,
   "id": "99e45e04",
   "metadata": {},
   "outputs": [],
   "source": [
    "# Make predictions\n",
    "unstandardized_predictions = pipe.predict(X_test)"
   ]
  },
  {
   "cell_type": "markdown",
   "id": "605f0048",
   "metadata": {},
   "source": [
    "It is important to note that, unlike in the previous model development, the predictions made from this pipeline will be in an unstandardized format. This makes using the model for business purposes much easier, but makes assessing the LinearRegression model's performance more complex."
   ]
  },
  {
   "cell_type": "code",
   "execution_count": 49,
   "id": "c7f7a946",
   "metadata": {},
   "outputs": [
    {
     "name": "stdout",
     "output_type": "stream",
     "text": [
      "[[643.54715932]\n",
      " [147.85426395]\n",
      " [602.63598308]\n",
      " [588.99892433]\n",
      " [385.92275615]\n",
      " [575.36186558]\n",
      " [323.81613526]\n",
      " [534.45068933]\n",
      " [520.81363059]\n",
      " [417.79583345]\n",
      " [251.03188172]\n",
      " [588.99892433]\n",
      " [376.8846572 ]\n",
      " [426.8339324 ]\n",
      " [452.62833684]\n",
      " [643.54715932]\n",
      " [431.43289219]\n",
      " [431.43289219]\n",
      " [343.53186686]\n",
      " [249.55216867]\n",
      " [329.89480811]\n",
      " [284.38467207]\n",
      " [249.55216867]\n",
      " [643.54715932]\n",
      " [276.82628617]\n",
      " [310.17907651]\n",
      " [452.62833684]\n",
      " [161.4913227 ]\n",
      " [276.82628617]\n",
      " [548.08774808]\n",
      " [493.53951309]\n",
      " [588.99892433]\n",
      " [284.38467207]\n",
      " [534.45068933]\n",
      " [561.72480683]\n",
      " [284.38467207]\n",
      " [479.90245434]\n",
      " [643.54715932]\n",
      " [431.43289219]\n",
      " [357.1689256 ]\n",
      " [520.81363059]\n",
      " [290.46334492]\n",
      " [426.8339324 ]\n",
      " [251.03188172]\n",
      " [161.4913227 ]\n",
      " [588.99892433]\n",
      " [629.91010057]\n",
      " [161.4913227 ]\n",
      " [493.53951309]\n",
      " [616.27304183]\n",
      " [616.27304183]\n",
      " [466.26539559]\n",
      " [588.99892433]\n",
      " [431.43289219]\n",
      " [561.72480683]\n",
      " [161.4913227 ]\n",
      " [329.89480811]\n",
      " [466.26539559]\n",
      " [161.4913227 ]\n",
      " [493.53951309]\n",
      " [466.26539559]\n",
      " [657.18421807]\n",
      " [588.99892433]\n",
      " [161.4913227 ]\n",
      " [161.4913227 ]\n",
      " [534.45068933]\n",
      " [310.17907651]\n",
      " [417.79583345]\n",
      " [452.62833684]\n",
      " [276.82628617]\n",
      " [385.92275615]\n",
      " [452.62833684]]\n"
     ]
    }
   ],
   "source": [
    "print(unstandardized_predictions)"
   ]
  },
  {
   "cell_type": "code",
   "execution_count": 50,
   "id": "e7eae7fe",
   "metadata": {},
   "outputs": [
    {
     "name": "stdout",
     "output_type": "stream",
     "text": [
      "     purchase_amount\n",
      "115              630\n",
      "15               160\n",
      "212              600\n",
      "126              600\n",
      "6                400\n",
      "..               ...\n",
      "101              420\n",
      "233              450\n",
      "195              250\n",
      "108              400\n",
      "29               450\n",
      "\n",
      "[72 rows x 1 columns]\n"
     ]
    }
   ],
   "source": [
    "print(y_test)"
   ]
  },
  {
   "cell_type": "code",
   "execution_count": 51,
   "id": "093c7f83",
   "metadata": {},
   "outputs": [
    {
     "data": {
      "text/html": [
       "<div>\n",
       "<style scoped>\n",
       "    .dataframe tbody tr th:only-of-type {\n",
       "        vertical-align: middle;\n",
       "    }\n",
       "\n",
       "    .dataframe tbody tr th {\n",
       "        vertical-align: top;\n",
       "    }\n",
       "\n",
       "    .dataframe thead th {\n",
       "        text-align: right;\n",
       "    }\n",
       "</style>\n",
       "<table border=\"1\" class=\"dataframe\">\n",
       "  <thead>\n",
       "    <tr style=\"text-align: right;\">\n",
       "      <th></th>\n",
       "      <th>Predictions</th>\n",
       "      <th>Actual Values</th>\n",
       "    </tr>\n",
       "  </thead>\n",
       "  <tbody>\n",
       "    <tr>\n",
       "      <th>0</th>\n",
       "      <td>643.547159</td>\n",
       "      <td>630</td>\n",
       "    </tr>\n",
       "    <tr>\n",
       "      <th>1</th>\n",
       "      <td>147.854264</td>\n",
       "      <td>160</td>\n",
       "    </tr>\n",
       "    <tr>\n",
       "      <th>2</th>\n",
       "      <td>602.635983</td>\n",
       "      <td>600</td>\n",
       "    </tr>\n",
       "    <tr>\n",
       "      <th>3</th>\n",
       "      <td>588.998924</td>\n",
       "      <td>600</td>\n",
       "    </tr>\n",
       "    <tr>\n",
       "      <th>4</th>\n",
       "      <td>385.922756</td>\n",
       "      <td>400</td>\n",
       "    </tr>\n",
       "    <tr>\n",
       "      <th>...</th>\n",
       "      <td>...</td>\n",
       "      <td>...</td>\n",
       "    </tr>\n",
       "    <tr>\n",
       "      <th>67</th>\n",
       "      <td>417.795833</td>\n",
       "      <td>420</td>\n",
       "    </tr>\n",
       "    <tr>\n",
       "      <th>68</th>\n",
       "      <td>452.628337</td>\n",
       "      <td>450</td>\n",
       "    </tr>\n",
       "    <tr>\n",
       "      <th>69</th>\n",
       "      <td>276.826286</td>\n",
       "      <td>250</td>\n",
       "    </tr>\n",
       "    <tr>\n",
       "      <th>70</th>\n",
       "      <td>385.922756</td>\n",
       "      <td>400</td>\n",
       "    </tr>\n",
       "    <tr>\n",
       "      <th>71</th>\n",
       "      <td>452.628337</td>\n",
       "      <td>450</td>\n",
       "    </tr>\n",
       "  </tbody>\n",
       "</table>\n",
       "<p>72 rows × 2 columns</p>\n",
       "</div>"
      ],
      "text/plain": [
       "    Predictions  Actual Values\n",
       "0    643.547159            630\n",
       "1    147.854264            160\n",
       "2    602.635983            600\n",
       "3    588.998924            600\n",
       "4    385.922756            400\n",
       "..          ...            ...\n",
       "67   417.795833            420\n",
       "68   452.628337            450\n",
       "69   276.826286            250\n",
       "70   385.922756            400\n",
       "71   452.628337            450\n",
       "\n",
       "[72 rows x 2 columns]"
      ]
     },
     "execution_count": 51,
     "metadata": {},
     "output_type": "execute_result"
    }
   ],
   "source": [
    "# Compare actual to predicted unstandardized values\n",
    "pipe_compare_df = compare_predicts_actual(unstandardized_predictions, y_test['purchase_amount'])\n",
    "pipe_compare_df"
   ]
  },
  {
   "cell_type": "code",
   "execution_count": 59,
   "id": "e7152778",
   "metadata": {},
   "outputs": [
    {
     "data": {
      "image/png": "[encoded data removed]",
      "text/plain": [
       "<Figure size 640x480 with 1 Axes>"
      ]
     },
     "metadata": {},
     "output_type": "display_data"
    }
   ],
   "source": [
    "# Plot predictions and actual values with perfect prediction line\n",
    "\n",
    "plt.scatter(pipe_compare_df['Actual Values'], pipe_compare_df['Predictions'])\n",
    "# Perfect prediction line\n",
    "plt.plot([min(pipe_compare_df['Actual Values']), max(pipe_compare_df['Actual Values'])], \n",
    "         [min(pipe_compare_df['Actual Values']), max(pipe_compare_df['Actual Values'])], \n",
    "         'k--', \n",
    "         lw=2,\n",
    "        alpha=0.4) \n",
    "plt.xlabel('Actual Values')\n",
    "plt.ylabel('Predicted Values')\n",
    "plt.title('Actual vs Predicted')\n",
    "plt.show()"
   ]
  },
  {
   "cell_type": "markdown",
   "id": "868dc010",
   "metadata": {},
   "source": [
    "As seen in the above plot, the predicted values and actual values have an almost perfect linear relationship. This is an indicator of good model performance. To further assess the pipeline's performance, the residuals will be calculated and plotted."
   ]
  },
  {
   "cell_type": "code",
   "execution_count": 61,
   "id": "9e289aff",
   "metadata": {},
   "outputs": [
    {
     "data": {
      "text/plain": [
       "0    -13.547159\n",
       "1     12.145736\n",
       "2     -2.635983\n",
       "3     11.001076\n",
       "4     14.077244\n",
       "        ...    \n",
       "67     2.204167\n",
       "68    -2.628337\n",
       "69   -26.826286\n",
       "70    14.077244\n",
       "71    -2.628337\n",
       "Length: 72, dtype: float64"
      ]
     },
     "execution_count": 61,
     "metadata": {},
     "output_type": "execute_result"
    }
   ],
   "source": [
    "# Calculate residuals\n",
    "\n",
    "residuals = pipe_compare_df['Actual Values'] - pipe_compare_df['Predictions']\n",
    "residuals"
   ]
  },
  {
   "cell_type": "code",
   "execution_count": 65,
   "id": "2ba1454a",
   "metadata": {},
   "outputs": [
    {
     "data": {
      "image/png": "[encoded data removed]",
      "text/plain": [
       "<Figure size 640x480 with 1 Axes>"
      ]
     },
     "metadata": {},
     "output_type": "display_data"
    }
   ],
   "source": [
    "# Plot residuals\n",
    "\n",
    "plt.scatter(pipe_compare_df['Predictions'], residuals)\n",
    "plt.xlabel('Predicted Values')\n",
    "plt.ylabel('Residuals')\n",
    "plt.title('Residual Plot')\n",
    "plt.show()"
   ]
  },
  {
   "cell_type": "markdown",
   "id": "0c7c42db",
   "metadata": {},
   "source": [
    "The residuals are the difference between the actual and predicted values. When the residuals are dispersed without an underlying pattern, this is an indication that the data is linear and a LinearRegression model was a good choice for a model. If there was a pattern, this could be evidence of bias being introduced into the model, and heteroscedasticity (the amount of error changing as the input variable changes) could also be present. Thus, if there was a pattern present in the above residual plot, different models may need to be assessed for a better fit of the data. \n",
    "\n",
    "With confirmation that a LinearRegression model was a good choice for this dataset, the model's accuracy can be assessed. Because the predictions and actual values are not in a standardized format, RSME will be used instead of MSE. R^2 will also be assessed."
   ]
  },
  {
   "cell_type": "code",
   "execution_count": 55,
   "id": "973302b0",
   "metadata": {},
   "outputs": [
    {
     "name": "stdout",
     "output_type": "stream",
     "text": [
      "RMSE: 17.25941\n"
     ]
    }
   ],
   "source": [
    "# RMSE\n",
    "    \n",
    "y_true = pipe_compare_df['Actual Values']\n",
    "y_pred = pipe_compare_df['Predictions']\n",
    "\n",
    "# Calculate Mean Squared Error\n",
    "mse_value = math.sqrt(mean_squared_error(y_true, y_pred))\n",
    "print(f\"RMSE: {mse_value:.5f}\")"
   ]
  },
  {
   "cell_type": "code",
   "execution_count": 56,
   "id": "48d5a7f4",
   "metadata": {},
   "outputs": [
    {
     "name": "stdout",
     "output_type": "stream",
     "text": [
      "Unstandardized R^2 Score: 0.98666\n"
     ]
    }
   ],
   "source": [
    "# r^2\n",
    "\n",
    "r2_unstandard = r2_score(y_true, y_pred)\n",
    "print(f\"Unstandardized R^2 Score: {r2_unstandard:.5f}\")"
   ]
  },
  {
   "cell_type": "markdown",
   "id": "4c5f7e50",
   "metadata": {},
   "source": [
    "The RSME is the average error in the unit of the prediction values, which is why the value is so much higher than the MSE calculated previously. Moreover, a calculated RSME of ~17 means the predicted value differs from the actual value by about 17. Considering the range of actual values falls between 100 and 700, an error of only 17 is very small. This is further confirmed by the R^2 value, which is close to 1. This high R^2 value close to 1 means that the model is very good at predicting, but is not overfitting.\n",
    "\n",
    "To wrap up, the linear coefficients and intercept will be determined, and the final linear regression equation will be provided."
   ]
  },
  {
   "cell_type": "code",
   "execution_count": 57,
   "id": "2ab4c4ef",
   "metadata": {},
   "outputs": [
    {
     "name": "stdout",
     "output_type": "stream",
     "text": [
      "Y-Intercept: 428.8\n",
      "Age Variable Coefficient: 69.02\n",
      "Income Variable Coefficient: 65.68\n"
     ]
    }
   ],
   "source": [
    "# Get linear coefficients and intercept\n",
    "\n",
    "intercept = round(pipe.named_steps['linear_regression'].intercept_[0], 2)\n",
    "age_coef = round(pipe.named_steps['linear_regression'].coef_[0][0], 2)\n",
    "income_coef = round(pipe.named_steps['linear_regression'].coef_[0][1], 2)\n",
    "\n",
    "print(f'Y-Intercept: {intercept}')\n",
    "print(f'Age Variable Coefficient: {age_coef}')\n",
    "print(f'Income Variable Coefficient: {income_coef}')"
   ]
  },
  {
   "cell_type": "markdown",
   "id": "bdc9ce55",
   "metadata": {},
   "source": [
    "The final Multi-Linear Regression equation is below:\n",
    "\n",
    "                                                    y = 69.02a + 65.68i + 428.80\n",
    "Where a is the age and i is the annual income of a given customer."
   ]
  },
  {
   "cell_type": "markdown",
   "id": "603818cc",
   "metadata": {},
   "source": [
    "# Conclusions and Future Steps"
   ]
  },
  {
   "cell_type": "markdown",
   "id": "83d389cd",
   "metadata": {},
   "source": [
    "Overall, the linear regression model and pipeline can be used to predict the purchase amount of a customer given their age and annual income. This can help the company assess future customer needs, and can help to influence marketing campaigns and discounts. \n",
    "\n",
    "In terms of the model development process, as more data is collected about new customers, model performance should continue to be monitored. Furthermore, as the dataset increases, it may become necessary to train new, more robust models to handle the more complex data. This may require more advanced techniques, such as using a grid-search and implementing cross-validation. As these steps are identified, it is important to continuously update the pipeline, which will ensure a streamlined process for deployment and use by the business."
   ]
  }
 ],
 "metadata": {
  "kernelspec": {
   "display_name": "Python 3 (ipykernel)",
   "language": "python",
   "name": "python3"
  },
  "language_info": {
   "codemirror_mode": {
    "name": "ipython",
    "version": 3
   },
   "file_extension": ".py",
   "mimetype": "text/x-python",
   "name": "python",
   "nbconvert_exporter": "python",
   "pygments_lexer": "ipython3",
   "version": "3.11.4"
  }
 },
 "nbformat": 4,
 "nbformat_minor": 5
}
